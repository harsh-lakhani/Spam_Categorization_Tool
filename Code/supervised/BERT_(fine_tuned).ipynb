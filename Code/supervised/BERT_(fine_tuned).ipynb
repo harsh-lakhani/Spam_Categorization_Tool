{
 "cells": [
  {
   "cell_type": "code",
   "execution_count": 1,
   "metadata": {
    "id": "r6DGcoo2buUE"
   },
   "outputs": [
    {
     "name": "stderr",
     "output_type": "stream",
     "text": [
      "[nltk_data] Downloading package stopwords to\n",
      "[nltk_data]     C:\\Users\\likah\\AppData\\Roaming\\nltk_data...\n",
      "[nltk_data]   Package stopwords is already up-to-date!\n"
     ]
    }
   ],
   "source": [
    "import numpy as np\n",
    "import pandas as pd\n",
    "import tensorflow as tf\n",
    "import matplotlib.pyplot as plt\n",
    "import seaborn as sns\n",
    "import warnings\n",
    "warnings.filterwarnings(\"ignore\")\n",
    "from script.text_cleaning import clean_html, remove_links, remove_special_characters, removeStopWords, remove_, remove_digits, lower, email_address, non_ascii, punct, hashtags\n",
    "from tensorflow.keras.layers import Input, Dense, Dropout, Flatten\n",
    "from tensorflow.keras.models import Model\n",
    "from tensorflow.keras.optimizers import Adam\n",
    "from tensorflow.keras.losses import BinaryCrossentropy\n",
    "from tensorflow.keras.metrics import BinaryAccuracy\n",
    "from tensorflow.keras.callbacks import EarlyStopping, ModelCheckpoint\n",
    "from sklearn.model_selection import train_test_split\n",
    "from transformers import AutoTokenizer, TFAutoModelForSequenceClassification\n",
    "from tensorflow.keras.utils import to_categorical, plot_model\n",
    "from sklearn.metrics import confusion_matrix, classification_report"
   ]
  },
  {
   "cell_type": "code",
   "execution_count": 2,
   "metadata": {
    "colab": {
     "base_uri": "https://localhost:8080/",
     "height": 206
    },
    "id": "PCU5VvpqbzGr",
    "outputId": "bd273df3-07e7-41fd-f72c-77291f7d1e77"
   },
   "outputs": [
    {
     "data": {
      "text/html": [
       "<div>\n",
       "<style scoped>\n",
       "    .dataframe tbody tr th:only-of-type {\n",
       "        vertical-align: middle;\n",
       "    }\n",
       "\n",
       "    .dataframe tbody tr th {\n",
       "        vertical-align: top;\n",
       "    }\n",
       "\n",
       "    .dataframe thead th {\n",
       "        text-align: right;\n",
       "    }\n",
       "</style>\n",
       "<table border=\"1\" class=\"dataframe\">\n",
       "  <thead>\n",
       "    <tr style=\"text-align: right;\">\n",
       "      <th></th>\n",
       "      <th>text</th>\n",
       "      <th>spam</th>\n",
       "    </tr>\n",
       "  </thead>\n",
       "  <tbody>\n",
       "    <tr>\n",
       "      <th>0</th>\n",
       "      <td>Dear Homeowner,     Interest Rates are at thei...</td>\n",
       "      <td>1</td>\n",
       "    </tr>\n",
       "    <tr>\n",
       "      <th>1</th>\n",
       "      <td>Help wanted.  We are a 14 year old fortune 500...</td>\n",
       "      <td>1</td>\n",
       "    </tr>\n",
       "    <tr>\n",
       "      <th>2</th>\n",
       "      <td>Subject: ua 4 for meter 8608 - 6 / 98 - deal 9...</td>\n",
       "      <td>0</td>\n",
       "    </tr>\n",
       "    <tr>\n",
       "      <th>3</th>\n",
       "      <td>Subject: fw : pymt for 03 / 01 sales adjustmen...</td>\n",
       "      <td>0</td>\n",
       "    </tr>\n",
       "    <tr>\n",
       "      <th>4</th>\n",
       "      <td>Sean O'Donnell wrote:  &gt; Doesnt answer your qu...</td>\n",
       "      <td>0</td>\n",
       "    </tr>\n",
       "  </tbody>\n",
       "</table>\n",
       "</div>"
      ],
      "text/plain": [
       "                                                text  spam\n",
       "0  Dear Homeowner,     Interest Rates are at thei...     1\n",
       "1  Help wanted.  We are a 14 year old fortune 500...     1\n",
       "2  Subject: ua 4 for meter 8608 - 6 / 98 - deal 9...     0\n",
       "3  Subject: fw : pymt for 03 / 01 sales adjustmen...     0\n",
       "4  Sean O'Donnell wrote:  > Doesnt answer your qu...     0"
      ]
     },
     "execution_count": 2,
     "metadata": {},
     "output_type": "execute_result"
    }
   ],
   "source": [
    "df_sms = pd.read_csv(\"data/final.csv\", encoding=\"ISO-8859-1\", index_col=0)\n",
    "df_sms.rename(columns={'v2':'text'}, inplace = True)\n",
    "df_sms.head(5)"
   ]
  },
  {
   "cell_type": "code",
   "execution_count": 3,
   "metadata": {
    "colab": {
     "base_uri": "https://localhost:8080/"
    },
    "id": "NvBQBW9Ij5_o",
    "outputId": "190dcb50-9290-45d5-ed5e-28dba07199d5"
   },
   "outputs": [
    {
     "name": "stdout",
     "output_type": "stream",
     "text": [
      "1    3000\n",
      "0    3000\n",
      "Name: spam, dtype: int64\n"
     ]
    }
   ],
   "source": [
    "print(df_sms[\"spam\"].value_counts())"
   ]
  },
  {
   "cell_type": "markdown",
   "metadata": {
    "id": "SBb-pH8yx7qG"
   },
   "source": [
    "# BERT (fine-tuned)"
   ]
  },
  {
   "cell_type": "code",
   "execution_count": 4,
   "metadata": {
    "colab": {
     "base_uri": "https://localhost:8080/"
    },
    "id": "7jdRfSuzM2Cp",
    "outputId": "fd629974-bde4-4cae-ceaa-e9754e069f19"
   },
   "outputs": [],
   "source": [
    "from script.text_cleaning import clean_html, remove_links, remove_special_characters, removeStopWords, remove_, remove_digits, lower, email_address, non_ascii, punct, hashtags\n",
    "def text_preprocess(data,col):\n",
    "    data[col] = data[col].apply(func=clean_html)\n",
    "    data[col] = data[col].apply(func=remove_)\n",
    "    data[col] = data[col].apply(func=removeStopWords)\n",
    "    data[col] = data[col].apply(func=remove_special_characters)\n",
    "    data[col] = data[col].apply(func=punct)\n",
    "    data[col] = data[col].apply(func=non_ascii)\n",
    "    data[col] = data[col].apply(func=email_address)\n",
    "    data[col] = data[col].apply(func=lower)\n",
    "    return data"
   ]
  },
  {
   "cell_type": "code",
   "execution_count": 5,
   "metadata": {
    "colab": {
     "base_uri": "https://localhost:8080/",
     "height": 206
    },
    "id": "SOHAFFZyNM7n",
    "outputId": "cbc7c852-ce61-416e-9b91-72cda44b41c5"
   },
   "outputs": [
    {
     "data": {
      "text/html": [
       "<div>\n",
       "<style scoped>\n",
       "    .dataframe tbody tr th:only-of-type {\n",
       "        vertical-align: middle;\n",
       "    }\n",
       "\n",
       "    .dataframe tbody tr th {\n",
       "        vertical-align: top;\n",
       "    }\n",
       "\n",
       "    .dataframe thead th {\n",
       "        text-align: right;\n",
       "    }\n",
       "</style>\n",
       "<table border=\"1\" class=\"dataframe\">\n",
       "  <thead>\n",
       "    <tr style=\"text-align: right;\">\n",
       "      <th></th>\n",
       "      <th>text</th>\n",
       "      <th>spam</th>\n",
       "    </tr>\n",
       "  </thead>\n",
       "  <tbody>\n",
       "    <tr>\n",
       "      <th>0</th>\n",
       "      <td>dear homeowner interest rates lowest point 40 ...</td>\n",
       "      <td>1</td>\n",
       "    </tr>\n",
       "    <tr>\n",
       "      <th>1</th>\n",
       "      <td>help wanted we 14 year old fortune 500 company...</td>\n",
       "      <td>1</td>\n",
       "    </tr>\n",
       "    <tr>\n",
       "      <th>2</th>\n",
       "      <td>subject ua 4 meter 8608 6 98 deal 96731 daren ...</td>\n",
       "      <td>0</td>\n",
       "    </tr>\n",
       "    <tr>\n",
       "      <th>3</th>\n",
       "      <td>subject fw pymt 03 01 sales adjustment cowtrap...</td>\n",
       "      <td>0</td>\n",
       "    </tr>\n",
       "    <tr>\n",
       "      <th>4</th>\n",
       "      <td>sean o donnell wrote doesnt answer question th...</td>\n",
       "      <td>0</td>\n",
       "    </tr>\n",
       "  </tbody>\n",
       "</table>\n",
       "</div>"
      ],
      "text/plain": [
       "                                                text  spam\n",
       "0  dear homeowner interest rates lowest point 40 ...     1\n",
       "1  help wanted we 14 year old fortune 500 company...     1\n",
       "2  subject ua 4 meter 8608 6 98 deal 96731 daren ...     0\n",
       "3  subject fw pymt 03 01 sales adjustment cowtrap...     0\n",
       "4  sean o donnell wrote doesnt answer question th...     0"
      ]
     },
     "execution_count": 5,
     "metadata": {},
     "output_type": "execute_result"
    }
   ],
   "source": [
    "df_sms = text_preprocess(df_sms,'text')\n",
    "df_sms.head()"
   ]
  },
  {
   "cell_type": "code",
   "execution_count": 6,
   "metadata": {
    "colab": {
     "base_uri": "https://localhost:8080/"
    },
    "id": "h9R8WoutyJPN",
    "outputId": "d9553799-f00d-4d6b-b399-66e96df21668"
   },
   "outputs": [
    {
     "name": "stderr",
     "output_type": "stream",
     "text": [
      "All model checkpoint layers were used when initializing TFBertForSequenceClassification.\n",
      "\n",
      "Some layers of TFBertForSequenceClassification were not initialized from the model checkpoint at bert-base-uncased and are newly initialized: ['classifier']\n",
      "You should probably TRAIN this model on a down-stream task to be able to use it for predictions and inference.\n"
     ]
    }
   ],
   "source": [
    "# Tokenization\n",
    "from transformers import AutoTokenizer\n",
    "# Load Model\n",
    "from transformers import TFBertForSequenceClassification\n",
    "\n",
    "model = TFBertForSequenceClassification.from_pretrained('bert-base-uncased')\n",
    "tokenizer = AutoTokenizer.from_pretrained('bert-base-uncased')"
   ]
  },
  {
   "cell_type": "code",
   "execution_count": 7,
   "metadata": {
    "id": "KdoQvyWG0XRZ"
   },
   "outputs": [],
   "source": [
    "from sklearn.model_selection import train_test_split\n",
    "\n",
    "train_df, test_df = train_test_split(df_sms,test_size=0.3,random_state=42,shuffle=True,stratify=df_sms.spam)"
   ]
  },
  {
   "cell_type": "code",
   "execution_count": 8,
   "metadata": {
    "id": "cD-yhecv9F-V"
   },
   "outputs": [],
   "source": [
    "max_len = 50"
   ]
  },
  {
   "cell_type": "code",
   "execution_count": 9,
   "metadata": {
    "id": "NvdFngf6yJpb"
   },
   "outputs": [],
   "source": [
    "X_train = tokenizer(train_df.text.to_list(),\n",
    "                   max_length=max_len,\n",
    "                   padding='max_length',\n",
    "                   truncation=True,\n",
    "                   add_special_tokens=True,\n",
    "                   return_tensors=\"tf\",\n",
    "                   return_attention_mask=True,\n",
    "                   return_token_type_ids=True,\n",
    "                   verbose=True)\n",
    "\n",
    "X_test = tokenizer(test_df.text.to_list(),\n",
    "                  max_length=max_len,\n",
    "                  padding='max_length',\n",
    "                  truncation=True,\n",
    "                  add_special_tokens=True,\n",
    "                  return_tensors=\"tf\",\n",
    "                  return_attention_mask=True,\n",
    "                  return_token_type_ids=True,\n",
    "                  verbose=True)"
   ]
  },
  {
   "cell_type": "code",
   "execution_count": 10,
   "metadata": {},
   "outputs": [],
   "source": [
    "input_ids = Input(shape=(max_len,),dtype=tf.int32,name='input_ids')\n",
    "attention_mask = Input(shape=(max_len,),dtype=tf.int32,name='attention_mask')\n",
    "token_type_ids = Input(shape=(max_len,),dtype=tf.int32,name='token_type_ids')"
   ]
  },
  {
   "cell_type": "code",
   "execution_count": 11,
   "metadata": {
    "colab": {
     "base_uri": "https://localhost:8080/"
    },
    "id": "SGIgFdIMzBv0",
    "outputId": "404fcb8d-4591-4111-b9fc-a9cb73e80632"
   },
   "outputs": [],
   "source": [
    "from tensorflow.keras.layers import Input, Dense, Dropout, Flatten\n",
    "from tensorflow.keras.models import Model\n",
    "from tensorflow.keras.metrics import BinaryAccuracy\n",
    "from tensorflow.keras.losses import BinaryCrossentropy\n",
    "from tensorflow.keras.utils import to_categorical, plot_model\n",
    "\n",
    "embeddings = model.bert({'input_ids': input_ids, 'attention_mask':attention_mask})[0] # 0 --> final hidden state, 1 --> pooling output\n",
    "output = Flatten()(embeddings)\n",
    "output = Dense(units=1024,activation='relu')(output)\n",
    "output = Dropout(0.3)(output)\n",
    "output = Dense(units=512,activation='relu')(output)\n",
    "output = Dropout(0.2)(output)\n",
    "output = Dense(units=256,activation='relu')(output)\n",
    "output = Dropout(0.1)(output)\n",
    "output = Dense(units=128,activation='relu')(output)\n",
    "output = Dense(units=2,activation='sigmoid')(output)\n",
    "\n",
    "\n",
    "model = Model(inputs=[input_ids, attention_mask], outputs=output)"
   ]
  },
  {
   "cell_type": "code",
   "execution_count": 12,
   "metadata": {},
   "outputs": [],
   "source": [
    "checkpoint_filepath = 'model/bert_finetune'\n",
    "model_checkpoint_callback = tf.keras.callbacks.ModelCheckpoint(\n",
    "    filepath=checkpoint_filepath,\n",
    "    monitor='val_balanced_accuracy',\n",
    "    mode='max',\n",
    "    save_best_only=True)"
   ]
  },
  {
   "cell_type": "code",
   "execution_count": 13,
   "metadata": {
    "scrolled": true
   },
   "outputs": [
    {
     "name": "stdout",
     "output_type": "stream",
     "text": [
      "Epoch 1/5\n",
      "WARNING:tensorflow:Gradients do not exist for variables ['tf_bert_for_sequence_classification/bert/pooler/dense/kernel:0', 'tf_bert_for_sequence_classification/bert/pooler/dense/bias:0'] when minimizing the loss. If you're using `model.compile()`, did you forget to provide a `loss` argument?\n",
      "WARNING:tensorflow:Gradients do not exist for variables ['tf_bert_for_sequence_classification/bert/pooler/dense/kernel:0', 'tf_bert_for_sequence_classification/bert/pooler/dense/bias:0'] when minimizing the loss. If you're using `model.compile()`, did you forget to provide a `loss` argument?\n",
      "132/132 [==============================] - ETA: 0s - loss: 0.2512 - balanced_accuracy: 0.8856 "
     ]
    },
    {
     "name": "stderr",
     "output_type": "stream",
     "text": [
      "WARNING:absl:Found untraced functions such as embeddings_layer_call_fn, embeddings_layer_call_and_return_conditional_losses, encoder_layer_call_fn, encoder_layer_call_and_return_conditional_losses, pooler_layer_call_fn while saving (showing 5 of 420). These functions will not be directly callable after loading.\n"
     ]
    },
    {
     "name": "stdout",
     "output_type": "stream",
     "text": [
      "INFO:tensorflow:Assets written to: model\\bert_finetune\\assets\n"
     ]
    },
    {
     "name": "stderr",
     "output_type": "stream",
     "text": [
      "INFO:tensorflow:Assets written to: model\\bert_finetune\\assets\n"
     ]
    },
    {
     "name": "stdout",
     "output_type": "stream",
     "text": [
      "132/132 [==============================] - 2103s 15s/step - loss: 0.2512 - balanced_accuracy: 0.8856 - val_loss: 0.1428 - val_balanced_accuracy: 0.9547\n",
      "Epoch 2/5\n",
      "132/132 [==============================] - ETA: 0s - loss: 0.0598 - balanced_accuracy: 0.9808 "
     ]
    },
    {
     "name": "stderr",
     "output_type": "stream",
     "text": [
      "WARNING:absl:Found untraced functions such as embeddings_layer_call_fn, embeddings_layer_call_and_return_conditional_losses, encoder_layer_call_fn, encoder_layer_call_and_return_conditional_losses, pooler_layer_call_fn while saving (showing 5 of 420). These functions will not be directly callable after loading.\n"
     ]
    },
    {
     "name": "stdout",
     "output_type": "stream",
     "text": [
      "INFO:tensorflow:Assets written to: model\\bert_finetune\\assets\n"
     ]
    },
    {
     "name": "stderr",
     "output_type": "stream",
     "text": [
      "INFO:tensorflow:Assets written to: model\\bert_finetune\\assets\n"
     ]
    },
    {
     "name": "stdout",
     "output_type": "stream",
     "text": [
      "132/132 [==============================] - 1786s 14s/step - loss: 0.0598 - balanced_accuracy: 0.9808 - val_loss: 0.1108 - val_balanced_accuracy: 0.9661\n",
      "Epoch 3/5\n",
      "132/132 [==============================] - 1729s 13s/step - loss: 0.0216 - balanced_accuracy: 0.9929 - val_loss: 0.1485 - val_balanced_accuracy: 0.9633\n",
      "Epoch 4/5\n",
      "132/132 [==============================] - 1723s 13s/step - loss: 0.0072 - balanced_accuracy: 0.9983 - val_loss: 0.1764 - val_balanced_accuracy: 0.9628\n",
      "Epoch 5/5\n",
      "132/132 [==============================] - 1917s 15s/step - loss: 0.0056 - balanced_accuracy: 0.9976 - val_loss: 0.1891 - val_balanced_accuracy: 0.9619\n"
     ]
    }
   ],
   "source": [
    "from tensorflow.keras.metrics import BinaryAccuracy\n",
    "from tensorflow.keras.losses import BinaryCrossentropy\n",
    "from tensorflow.keras.utils import to_categorical, plot_model\n",
    "\n",
    "metrics = BinaryAccuracy('balanced_accuracy')\n",
    "loss = BinaryCrossentropy(from_logits=True)\n",
    "optimizer = tf.keras.optimizers.legacy.Adam(learning_rate=5e-5,epsilon=2e-8,decay=0.01,clipnorm=1.0)\n",
    "\n",
    "model.compile(optimizer=optimizer, loss=loss, metrics=metrics)\n",
    "\n",
    "# start training model\n",
    "r = model.fit(x = {'input_ids': X_train['input_ids'], 'attention_mask': X_train['attention_mask']}, y = to_categorical(train_df.spam),\n",
    "          epochs=5,\n",
    "          validation_data=({'input_ids': X_test['input_ids'], 'attention_mask': X_test['attention_mask']}, to_categorical(test_df.spam)),\n",
    "            callbacks = [model_checkpoint_callback])"
   ]
  },
  {
   "cell_type": "code",
   "execution_count": 14,
   "metadata": {
    "colab": {
     "base_uri": "https://localhost:8080/",
     "height": 472
    },
    "id": "3xOLKVHvBedp",
    "outputId": "71eef70f-b3d8-403e-a64c-ba1f6afa5a52"
   },
   "outputs": [
    {
     "data": {
      "image/png": "[encoded data removed]",
      "text/plain": [
       "<Figure size 640x480 with 1 Axes>"
      ]
     },
     "metadata": {},
     "output_type": "display_data"
    }
   ],
   "source": [
    "import matplotlib.pyplot as plt\n",
    "\n",
    "plt.plot(r.history['loss'],'r',label='train loss')\n",
    "plt.plot(r.history['val_loss'],'b',label='test loss')\n",
    "plt.xlabel('No. of Epochs')\n",
    "plt.ylabel('Loss')\n",
    "plt.title('Loss Graph')\n",
    "plt.legend();"
   ]
  },
  {
   "cell_type": "code",
   "execution_count": 15,
   "metadata": {
    "colab": {
     "base_uri": "https://localhost:8080/",
     "height": 472
    },
    "id": "TL20vw1ABmZI",
    "outputId": "978076e6-586b-4bf7-8bef-e49a750cdbd2"
   },
   "outputs": [
    {
     "data": {
      "image/png": "[encoded data removed]",
      "text/plain": [
       "<Figure size 640x480 with 1 Axes>"
      ]
     },
     "metadata": {},
     "output_type": "display_data"
    }
   ],
   "source": [
    "plt.plot(r.history['balanced_accuracy'],'r',label='train accuracy')\n",
    "plt.plot(r.history['val_balanced_accuracy'],'b',label='test accuracy')\n",
    "plt.xlabel('No. of Epochs')\n",
    "plt.ylabel('Balanced Accuracy')\n",
    "plt.title('Balanced Accuracy Graph')\n",
    "plt.legend();"
   ]
  },
  {
   "cell_type": "markdown",
   "metadata": {},
   "source": [
    "### Testing"
   ]
  },
  {
   "cell_type": "code",
   "execution_count": 16,
   "metadata": {},
   "outputs": [],
   "source": [
    "model_pred = tf.keras.models.load_model(\"model/bert_finetune\")"
   ]
  },
  {
   "cell_type": "code",
   "execution_count": 18,
   "metadata": {
    "scrolled": true
   },
   "outputs": [
    {
     "name": "stdout",
     "output_type": "stream",
     "text": [
      "57/57 [==============================] - 158s 3s/step - loss: 0.1108 - balanced_accuracy: 0.9661\n",
      "Test Binary Crossentropy Loss: 0.11081447452306747\n",
      "Test Binary Accuracy: 0.9661111235618591\n"
     ]
    }
   ],
   "source": [
    "loss, acc = model_pred.evaluate({'input_ids': X_test['input_ids'], 'attention_mask': X_test['attention_mask']},to_categorical(test_df.spam))\n",
    "print(\"Test Binary Crossentropy Loss:\", loss)\n",
    "print(\"Test Binary Accuracy:\", acc)"
   ]
  },
  {
   "cell_type": "code",
   "execution_count": 19,
   "metadata": {},
   "outputs": [
    {
     "name": "stdout",
     "output_type": "stream",
     "text": [
      "57/57 [==============================] - 156s 3s/step\n",
      "Confusion Matrix:\n",
      "[[879  21]\n",
      " [ 40 860]]\n",
      "Classification Report:\n",
      "              precision    recall  f1-score   support\n",
      "\n",
      "           0     0.9565    0.9767    0.9665       900\n",
      "           1     0.9762    0.9556    0.9657       900\n",
      "\n",
      "    accuracy                         0.9661      1800\n",
      "   macro avg     0.9663    0.9661    0.9661      1800\n",
      "weighted avg     0.9663    0.9661    0.9661      1800\n",
      "\n"
     ]
    }
   ],
   "source": [
    "test_predictions = model_pred.predict({'input_ids': X_test['input_ids'], 'attention_mask': X_test['attention_mask']})\n",
    "test_predictions = np.argmax(test_predictions,axis=1)\n",
    "print(\"Confusion Matrix:\")\n",
    "print(confusion_matrix(test_df.spam,test_predictions))\n",
    "print(\"Classification Report:\")\n",
    "print(classification_report(test_df.spam,test_predictions, digits = 4))"
   ]
  },
  {
   "cell_type": "code",
   "execution_count": null,
   "metadata": {},
   "outputs": [],
   "source": []
  }
 ],
 "metadata": {
  "colab": {
   "provenance": []
  },
  "kernelspec": {
   "display_name": "Python 3 (ipykernel)",
   "language": "python",
   "name": "python3"
  },
  "language_info": {
   "codemirror_mode": {
    "name": "ipython",
    "version": 3
   },
   "file_extension": ".py",
   "mimetype": "text/x-python",
   "name": "python",
   "nbconvert_exporter": "python",
   "pygments_lexer": "ipython3",
   "version": "3.9.13"
  }
 },
 "nbformat": 4,
 "nbformat_minor": 1
}
